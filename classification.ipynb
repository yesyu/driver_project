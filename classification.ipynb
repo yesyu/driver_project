{
 "cells": [
  {
   "cell_type": "code",
   "execution_count": null,
   "metadata": {
    "collapsed": true
   },
   "outputs": [],
   "source": [
    "import numpy as np\n",
    "import matplotlib.pyplot as plt\n",
    "# display plot in this notebook\n",
    "%matplotlib inline\n",
    "\n",
    "# set display default\n",
    "plt.rcParams['figure.figsize']=(224,224)          #large image\n",
    "plt.rcParams['image.interpolation']='nearest'   #don't interpolate:show square pixels\n",
    "plt.rcParams['image.cmap']='gray'  #use grayscale output rather thatn a color heatmap "
   ]
  },
  {
   "cell_type": "code",
   "execution_count": 2,
   "metadata": {
    "collapsed": true
   },
   "outputs": [],
   "source": [
    "import sys\n",
    "caffe_root='/data/yff/dl/caffe-master/'\n",
    "sys.path.insert(0,caffe_root+'python')\n",
    "import caffe"
   ]
  },
  {
   "cell_type": "code",
   "execution_count": 3,
   "metadata": {},
   "outputs": [
    {
     "name": "stdout",
     "output_type": "stream",
     "text": [
      "CaffeNet found!\n"
     ]
    }
   ],
   "source": [
    "import os\n",
    "if os.path.isfile('model/res50-origin_iter_38000.caffemodel'):\n",
    "    print 'CaffeNet found!'\n",
    "else:\n",
    "    print 'Not found!'"
   ]
  },
  {
   "cell_type": "code",
   "execution_count": 4,
   "metadata": {
    "collapsed": true
   },
   "outputs": [],
   "source": [
    "caffe.set_device(1)\n",
    "caffe.set_mode_gpu()\n",
    "# caffe.set_mode_cpu()\n",
    "model_def='ResNet_50_deploy.prototxt'\n",
    "model_weights='model/res50-origin_iter_38000.caffemodel'\n",
    "net=caffe.Net(model_def,#define the structure of the model\n",
    "             model_weights,#contains the trained weights\n",
    "             caffe.TEST)#use test mode(e.g., don't perform dropout)"
   ]
  },
  {
   "cell_type": "code",
   "execution_count": 5,
   "metadata": {
    "collapsed": true
   },
   "outputs": [],
   "source": [
    "# input: \"data\"\n",
    "# input_dim: 1\n",
    "# input_dim: 3\n",
    "# input_dim: 224\n",
    "# input_dim: 224\n",
    "transformer=caffe.io.Transformer({'data':net.blobs['data'].data.shape})\n",
    "transformer.set_transpose('data',(2,0,1))#change HxWxC==>CxHxW\n",
    "transformer.set_raw_scale('data',255)#python save image in format[0,1],\n",
    "# caffe in image format [0,255]\n",
    "transformer.set_channel_swap('data',(2,1,0))#origin image is RGB, \n",
    "# need to tranformer into BGR\n",
    "net.blobs['data'].reshape(1,3,224,224)"
   ]
  },
  {
   "cell_type": "markdown",
   "metadata": {},
   "source": [
    "Read image"
   ]
  },
  {
   "cell_type": "code",
   "execution_count": 6,
   "metadata": {},
   "outputs": [
    {
     "data": {
      "text/plain": [
       "<matplotlib.image.AxesImage at 0x7f086eb68a10>"
      ]
     },
     "execution_count": 6,
     "metadata": {},
     "output_type": "execute_result"
    }
   ],
   "source": [
    "img=caffe.io.load_image('000078.jpg')\n",
    "plt.imshow(img)"
   ]
  },
  {
   "cell_type": "code",
   "execution_count": null,
   "metadata": {},
   "outputs": [
    {
     "name": "stdout",
     "output_type": "stream",
     "text": [
      "[[  9.99449790e-01   4.25212704e-07   3.61034267e-06   2.13813223e-07\n    3.55700074e-08   4.30969482e-09   1.01489430e-08   5.45904331e-04]]\n"
     ]
    }
   ],
   "source": [
    "net.blobs['data'].data[...]=transformer.preprocess('data',img)\n"
   ]
  },
  {
   "cell_type": "code",
   "execution_count": 14,
   "metadata": {},
   "outputs": [
    {
     "name": "stdout",
     "output_type": "stream",
     "text": [
      "0\n"
     ]
    }
   ],
   "source": [
    "out=net.forward()\n",
    "predicts=out['prob']\n",
    "print predicts\n",
    "predict=predicts.argmax()\n",
    "print predict"
   ]
  }
 ],
 "metadata": {
  "kernelspec": {
   "display_name": "Python 2",
   "language": "python",
   "name": "python2"
  },
  "language_info": {
   "codemirror_mode": {
    "name": "ipython",
    "version": 2
   },
   "file_extension": ".py",
   "mimetype": "text/x-python",
   "name": "python",
   "nbconvert_exporter": "python",
   "pygments_lexer": "ipython2",
   "version": "2.7.6"
  }
 },
 "nbformat": 4,
 "nbformat_minor": 1
}
